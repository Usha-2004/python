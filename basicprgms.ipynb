{
 "cells": [
  {
   "cell_type": "code",
   "execution_count": 1,
   "id": "7b398526-174f-4048-8fce-f3371de8d15b",
   "metadata": {},
   "outputs": [
    {
     "name": "stdin",
     "output_type": "stream",
     "text": [
      "enter the age 44\n"
     ]
    },
    {
     "name": "stdout",
     "output_type": "stream",
     "text": [
      "eligible\n"
     ]
    }
   ],
   "source": [
    "#if condition statements\n",
    "person=int(input(\"enter the age\"))\n",
    "limit=18\n",
    "if person>=limit:\n",
    "    print(\"eligible\")\n",
    "    "
   ]
  },
  {
   "cell_type": "code",
   "execution_count": 7,
   "id": "ede81189-6484-4fda-9e78-0d490e9abcde",
   "metadata": {},
   "outputs": [
    {
     "name": "stdin",
     "output_type": "stream",
     "text": [
      "enter te number 9\n"
     ]
    },
    {
     "name": "stdout",
     "output_type": "stream",
     "text": [
      "9 is an odd number\n",
      "after condition exit...\n"
     ]
    }
   ],
   "source": [
    "num=int(input(\"enter te number\"))\n",
    "if num% 2==1:\n",
    "    print(num,\"is an odd number\")\n",
    "print(\"after condition exit...\")"
   ]
  },
  {
   "cell_type": "code",
   "execution_count": null,
   "id": "d4d39827-7d3a-41ab-81a0-75ca43a16faf",
   "metadata": {},
   "outputs": [],
   "source": []
  },
  {
   "cell_type": "code",
   "execution_count": 25,
   "id": "773b273c-a5b6-4f4a-97b5-1c667d5c807a",
   "metadata": {},
   "outputs": [
    {
     "name": "stdin",
     "output_type": "stream",
     "text": [
      "press any key  \n"
     ]
    },
    {
     "name": "stdout",
     "output_type": "stream",
     "text": [
      "the user has enter the space\n"
     ]
    }
   ],
   "source": [
    "char=input(\"press any key\")\n",
    "if char.isalpha():\n",
    "    print(\"the user has enter the alphabet\")\n",
    "if char.isdigit():\n",
    "    print(\"the user has enter the digit\")\n",
    "if char.isspace():\n",
    "    print(\"the user has enter the space\")\n",
    "     "
   ]
  },
  {
   "cell_type": "code",
   "execution_count": 52,
   "id": "33234cbb-f56f-41d2-b16c-4e7171d8e20b",
   "metadata": {},
   "outputs": [
    {
     "name": "stdin",
     "output_type": "stream",
     "text": [
      "enter any charcter  8\n",
      "enter any charcter  99\n"
     ]
    },
    {
     "name": "stdout",
     "output_type": "stream",
     "text": [
      "small value is  8\n"
     ]
    }
   ],
   "source": [
    "a=int(input(\"enter any charcter \"))\n",
    "b=int(input(\"enter any charcter \"))\n",
    "if a<b:\n",
    "    small=a\n",
    "    print(\"small value is \",small)\n",
    "else:\n",
    "    small=b\n",
    "    print(\"small value is \",small)"
   ]
  },
  {
   "cell_type": "code",
   "execution_count": 65,
   "id": "0767bfde-2dc3-4bd9-acc0-e7a458cfc5e1",
   "metadata": {},
   "outputs": [
    {
     "name": "stdin",
     "output_type": "stream",
     "text": [
      "enter any charactr from a-z u\n"
     ]
    },
    {
     "name": "stdout",
     "output_type": "stream",
     "text": [
      "converted case of input char : U\n"
     ]
    }
   ],
   "source": [
    "ch=input(\"enter any charactr from a-z\")\n",
    "if ch>='a' and ch<='z':\n",
    "    ch=ch.upper()\n",
    "    print (\"converted case of input char :\",ch)\n",
    "else:\n",
    "    ch=ch.lower()\n",
    "    print (\"converted case of input char :\",ch)"
   ]
  },
  {
   "cell_type": "code",
   "execution_count": null,
   "id": "d781a13e-79f0-4b1c-99a0-5021db4fb102",
   "metadata": {},
   "outputs": [],
   "source": []
  }
 ],
 "metadata": {
  "kernelspec": {
   "display_name": "Python 3 (ipykernel)",
   "language": "python",
   "name": "python3"
  },
  "language_info": {
   "codemirror_mode": {
    "name": "ipython",
    "version": 3
   },
   "file_extension": ".py",
   "mimetype": "text/x-python",
   "name": "python",
   "nbconvert_exporter": "python",
   "pygments_lexer": "ipython3",
   "version": "3.12.7"
  }
 },
 "nbformat": 4,
 "nbformat_minor": 5
}
